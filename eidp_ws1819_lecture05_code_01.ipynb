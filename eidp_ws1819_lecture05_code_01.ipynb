{
 "cells": [
  {
   "cell_type": "markdown",
   "metadata": {},
   "source": [
    "### Einführung in die Programmierung - WS18/19 - Lena Gieseke\n",
    "\n",
    "\n",
    "\n",
    "### Lecture 05 - 11.12.2018\n",
    "\n",
    "-----------------------------------\n"
   ]
  },
  {
   "cell_type": "markdown",
   "metadata": {},
   "source": [
    "# Code Examples\n",
    "\n",
    "1. [2D Loop](#ex01)\n",
    "2. [2D Circle Distribution](#ex02)\n",
    "3. [Function Basic](#ex03)\n",
    "4. [Function with Parameters](#ex04)\n",
    "5. [Function With a Return Value](#ex05)"
   ]
  },
  {
   "cell_type": "markdown",
   "metadata": {},
   "source": [
    "---\n",
    "<a id='ex01'></a>"
   ]
  },
  {
   "cell_type": "markdown",
   "metadata": {},
   "source": [
    "## Example 05.01 - 2D Loop"
   ]
  },
  {
   "cell_type": "code",
   "execution_count": null,
   "metadata": {
    "scrolled": false
   },
   "outputs": [],
   "source": [
    "int numberRows = 3;\n",
    "int numberColumns = 4;\n",
    "\n",
    "// Go through all rows\n",
    "for (int gridY = 0; gridY < numberRows; gridY++) \n",
    "{\n",
    "  println(\"Row: \" + gridY);\n",
    "}\n",
    "\n",
    "// Go through all columns\n",
    "for (int gridX = 0; gridX < numberColumns; gridX++) \n",
    "{\n",
    "  println(\"Column: \" + gridX);\n",
    "}\n",
    "\n",
    "\n",
    "println(\"\\n\\nNested:\");\n",
    "\n",
    "//// Nested loop to run through the grid\n",
    "for (int gridY = 0; gridY < numberRows; gridY++) \n",
    "{\n",
    "    for (int gridX = 0; gridX < numberColumns; gridX++)\n",
    "    {\n",
    "        println(\"Row: \" + gridY + \" Column: \" + gridX);\n",
    "    }\n",
    "}\n"
   ]
  },
  {
   "cell_type": "markdown",
   "metadata": {},
   "source": [
    "Loop have often the iterator variables x and y"
   ]
  },
  {
   "cell_type": "code",
   "execution_count": null,
   "metadata": {},
   "outputs": [],
   "source": [
    "int numberRows = 3;\n",
    "int numberColumns = 3;\n",
    "\n",
    "// Nested loop\n",
    "for (int y = 0; y < numberRows; y++) \n",
    "{\n",
    "    for (int x = 0; x < numberColumns; x++)\n",
    "    {\n",
    "        println(\"Row: \" + y + \" Column: \" + x);\n",
    "    }\n",
    "}"
   ]
  },
  {
   "cell_type": "markdown",
   "metadata": {},
   "source": [
    "You can also iterate first through the colums and then the rows. The result will be the same:"
   ]
  },
  {
   "cell_type": "code",
   "execution_count": null,
   "metadata": {},
   "outputs": [],
   "source": [
    "int numberRows = 3;\n",
    "int numberColumns = 3;\n",
    "\n",
    "// Nested loop\n",
    "for (int x = 0; x < numberColumns; x++)\n",
    "{\n",
    "    for (int y = 0; y < numberRows; y++) \n",
    "    {\n",
    "        println(\"Row: \" + y + \" Column: \" + x);\n",
    "    }\n",
    "}"
   ]
  },
  {
   "cell_type": "markdown",
   "metadata": {},
   "source": [
    "---\n",
    "<a id='ex02'></a>"
   ]
  },
  {
   "cell_type": "markdown",
   "metadata": {},
   "source": [
    "## Example 04.02 - 2D Circle Distribution"
   ]
  },
  {
   "cell_type": "code",
   "execution_count": null,
   "metadata": {
    "scrolled": true
   },
   "outputs": [],
   "source": [
    "int tileCount = 10;\n",
    "int diameter = 20;\n",
    "\n",
    "\n",
    "void setup()\n",
    "{\n",
    "    size(600, 600);\n",
    "    smooth();\n",
    "    noFill();\n",
    "    noLoop();\n",
    "}\n",
    "\n",
    "void draw() \n",
    "{\n",
    "\n",
    "    background(255);\n",
    "\n",
    "\n",
    "    int tileWidth = (width - 1) / tileCount;\n",
    "    int tileHeight = (height - 1) / tileCount;\n",
    "\n",
    "    for (int y = 0; y < height; y += tileHeight) \n",
    "    {\n",
    "        for (int x = 0; x < width; x += tileWidth) \n",
    "        {\n",
    "\n",
    "            // The underlying grid\n",
    "            stroke(220);\n",
    "            rect(x, y, tileWidth, tileHeight);\n",
    "\n",
    "            // The circles\n",
    "            stroke(100);\n",
    "            //ellipse(x, y, diameter, diameter);\n",
    "            ellipse(x + (tileWidth * 0.5), y + (tileHeight * 0.5), diameter, diameter);\n",
    "        }\n",
    "    }\n",
    "}\n"
   ]
  },
  {
   "cell_type": "markdown",
   "metadata": {},
   "source": [
    "---\n",
    "<a id='ex03'></a>"
   ]
  },
  {
   "cell_type": "markdown",
   "metadata": {},
   "source": [
    "## Example 05.03 - Function Basic"
   ]
  },
  {
   "cell_type": "code",
   "execution_count": null,
   "metadata": {},
   "outputs": [],
   "source": [
    "\n",
    "void setup() \n",
    "{\n",
    "    size(500, 500);\n",
    "    background(0, 0, 100);\n",
    "    \n",
    "    noLoop();\n",
    "}\n",
    "\n",
    " \n",
    "void draw() \n",
    "{\n",
    "    drawFunkyStar(); \n",
    "    drawFunkyStar(); \n",
    "    drawFunkyStar(); \n",
    "    drawFunkyStar(); \n",
    "}\n",
    "\n",
    " \n",
    "// Function with no return value \n",
    "// nor input parameter\n",
    "void drawFunkyStar() \n",
    "{\n",
    "  fill(255,255,0);\n",
    "  noStroke();\n",
    "  \n",
    "  triangle(250, 250, 250, 270, 240, 280);\n",
    "  triangle(250, 250, 250, 270, 260, 280);\n",
    "  triangle(235, 260, 265, 260, 250, 270); \n",
    "}"
   ]
  },
  {
   "cell_type": "markdown",
   "metadata": {},
   "source": [
    "But how to draw a 2nd star?"
   ]
  },
  {
   "cell_type": "markdown",
   "metadata": {},
   "source": [
    "---\n",
    "<a id='ex04'></a>"
   ]
  },
  {
   "cell_type": "markdown",
   "metadata": {},
   "source": [
    "## Example 05.04 - Function with Parameters"
   ]
  },
  {
   "cell_type": "code",
   "execution_count": null,
   "metadata": {},
   "outputs": [],
   "source": [
    "\n",
    "void setup() \n",
    "{\n",
    "    size(500, 500);\n",
    "    background(0, 0, 100);\n",
    "    \n",
    "    //noLoop();\n",
    "}\n",
    "\n",
    " \n",
    "void draw() \n",
    "{\n",
    "    background(0, 0, 100);\n",
    "    \n",
    "    drawFunkyStar(mouseX, mouseY); \n",
    "}\n",
    "\n",
    " \n",
    "// Function with no return value \n",
    "// and two input parameters for\n",
    "// the position of the center\n",
    "void drawFunkyStar(float x, float y) \n",
    "{\n",
    "  fill(255,255,0);\n",
    "  noStroke();\n",
    "  \n",
    "  triangle(x, y, x, y + 20, x - 10, y + 30);\n",
    "  triangle(x, y, x, y + 20, x + 10, y + 30);\n",
    "  triangle(x - 15, y + 10, x + 15, y + 10, x, y + 20); \n",
    "}"
   ]
  },
  {
   "cell_type": "markdown",
   "metadata": {},
   "source": [
    "---\n",
    "<a id='ex05'></a>"
   ]
  },
  {
   "cell_type": "markdown",
   "metadata": {},
   "source": [
    "## Example 05.05 - Function With a Return Value"
   ]
  },
  {
   "cell_type": "code",
   "execution_count": null,
   "metadata": {},
   "outputs": [],
   "source": [
    "// http://www.creativecoding.org/lesson/basics/processing/funktionen\n",
    "\n",
    "void setup() \n",
    "{\n",
    "  size(600, 600);\n",
    "  background(255);\n",
    "  fill(0);\n",
    "  \n",
    "}\n",
    " \n",
    "void draw() \n",
    "{\n",
    "    background(255);\n",
    "\n",
    "    float d = distanceToCenter(mouseX, mouseY);\n",
    "    ellipse(300, 300, d*2, d*2);\n",
    "    \n",
    "    ellipse(100, 100, d*0.25, d*0.25);\n",
    "}\n",
    " \n",
    "// Computes the distance of a point\n",
    "// to the center of the sketch window\n",
    "float distanceToCenter(float x, float y) \n",
    "{\n",
    "  float d = dist(x, y, width/2, height/2);\n",
    "  \n",
    "  // return the value\n",
    "  return d;\n",
    "}"
   ]
  }
 ],
 "metadata": {
  "kernelspec": {
   "display_name": "Calysto Processing",
   "language": "java",
   "name": "calysto_processing"
  },
  "language_info": {
   "codemirror_mode": {
    "name": "text/x-java",
    "version": 2
   },
   "file_extension": ".java",
   "mimetype": "text/x-java",
   "name": "java"
  }
 },
 "nbformat": 4,
 "nbformat_minor": 2
}

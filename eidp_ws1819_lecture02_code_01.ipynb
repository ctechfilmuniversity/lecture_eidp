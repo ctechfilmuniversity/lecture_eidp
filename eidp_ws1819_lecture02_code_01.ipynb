{
 "cells": [
  {
   "cell_type": "markdown",
   "metadata": {},
   "source": [
    "### Einführung in die Programmierung - WS18/19 - Lena Gieseke\n",
    "\n",
    "\n",
    "\n",
    "### Lecture 02 - 20.11.2018\n",
    "\n",
    "-----------------------------------\n"
   ]
  },
  {
   "cell_type": "markdown",
   "metadata": {},
   "source": [
    "# Code Examples\n",
    "\n",
    "1. [Comments](#ex01)\n",
    "2. [Dynamic Program Structure](#ex02)\n",
    "3. [Code Readability](#ex03)\n",
    "4. [Keyboard Interaction](#ex04)\n",
    "5. [Mouse Interaction](#ex05)"
   ]
  },
  {
   "cell_type": "markdown",
   "metadata": {},
   "source": [
    "---\n",
    "<a id='ex01'></a>"
   ]
  },
  {
   "cell_type": "markdown",
   "metadata": {},
   "source": [
    "## Example 01 - Comments"
   ]
  },
  {
   "cell_type": "code",
   "execution_count": null,
   "metadata": {},
   "outputs": [],
   "source": [
    "size(250, 250); \n",
    "background(255); //short-cut for white\n",
    "  \n",
    "\n",
    "fill(0,0,255);\n",
    "stroke(255, 0 , 0);\n",
    "//strokeWeight(10);\n",
    "ellipse(125, 125, 100, 100);\n",
    "\n",
    "/*\n",
    "Once upon the time there\n",
    "was a little bunny...\n",
    "*/"
   ]
  },
  {
   "cell_type": "markdown",
   "metadata": {},
   "source": [
    "---\n",
    "<a id='ex02'></a>"
   ]
  },
  {
   "cell_type": "markdown",
   "metadata": {},
   "source": [
    "## Example 02 - Dynamic Program Structure"
   ]
  },
  {
   "cell_type": "code",
   "execution_count": null,
   "metadata": {},
   "outputs": [],
   "source": [
    "// Called once when\n",
    "// the program is started\n",
    "void setup()\n",
    "{\n",
    "    size(250, 250); \n",
    "    background(255);\n",
    "}\n",
    "\n",
    "// Called continuesly\n",
    "// until the program\n",
    "// is quit\n",
    "void draw()\n",
    "{\n",
    "    fill(0,0,255);\n",
    "    stroke(255, 0 , 0);\n",
    "    strokeWeight(10);\n",
    "    ellipse(125, 125, 100, 100);\n",
    "}"
   ]
  },
  {
   "cell_type": "markdown",
   "metadata": {},
   "source": [
    "---\n",
    "<a id='ex03'></a>"
   ]
  },
  {
   "cell_type": "markdown",
   "metadata": {},
   "source": [
    "## Example 03 - Code Readability"
   ]
  },
  {
   "cell_type": "markdown",
   "metadata": {},
   "source": [
    "## *NOT ACCEPTABLE*\n",
    "...but the code still works:"
   ]
  },
  {
   "cell_type": "code",
   "execution_count": null,
   "metadata": {},
   "outputs": [],
   "source": [
    "// Called once when the program is started\n",
    "void setup()\n",
    "{\n",
    "size(250, 250); background(255); //short-cut for white}\n",
    "\n",
    "// Called continuesly\n",
    "// until the program\n",
    "// is quit\n",
    "void draw(){\n",
    "fill(0,0,255);\n",
    "   stroke(255, 0 , 0);\n",
    "strokeWeight(10);\n",
    "          ellipse(125, 125, 100, 100);\n",
    "}"
   ]
  },
  {
   "cell_type": "markdown",
   "metadata": {},
   "source": [
    "## *NOT ACCEPTABLE*\n",
    "...but the code still works:"
   ]
  },
  {
   "cell_type": "code",
   "execution_count": null,
   "metadata": {
    "scrolled": false
   },
   "outputs": [],
   "source": [
    "void setup(){size(250, 250); background(255);}void draw(){fill(0,0,255);stroke(255, 0 , 0);strokeWeight(10);ellipse(125, 125, 100, 100);}"
   ]
  },
  {
   "cell_type": "markdown",
   "metadata": {},
   "source": [
    "---\n",
    "<a id='ex04'></a>"
   ]
  },
  {
   "cell_type": "markdown",
   "metadata": {},
   "source": [
    "## Example 04 - Keyboard Interaction"
   ]
  },
  {
   "cell_type": "code",
   "execution_count": null,
   "metadata": {},
   "outputs": [],
   "source": [
    "// Called once when\n",
    "// the program is started\n",
    "void setup()\n",
    "{\n",
    "    size(250, 250); \n",
    "    background(255); //short-cut for white\n",
    "}\n",
    "\n",
    "// Called continuesly\n",
    "// until the program\n",
    "// is quit\n",
    "void draw()\n",
    "{\n",
    "    fill(0,0,255);\n",
    "    stroke(255, 0 , 0);\n",
    "    strokeWeight(10);\n",
    "    ellipse(125, 125, 100, 100);\n",
    "}\n",
    "\n",
    "// Called if a key was \n",
    "// pressed\n",
    "void keyPressed()\n",
    "{\n",
    "  // Set the fill color to a \n",
    "  // randomly chosen one\n",
    "  fill(random(255),random(255),random(255));\n",
    "}"
   ]
  },
  {
   "cell_type": "markdown",
   "metadata": {},
   "source": [
    "Do you know why the code above doesn't change the color upon pressing a key?"
   ]
  },
  {
   "cell_type": "code",
   "execution_count": null,
   "metadata": {},
   "outputs": [],
   "source": [
    "// Called once when\n",
    "// the program is started\n",
    "void setup()\n",
    "{\n",
    "    size(250, 250); \n",
    "    background(255); //short-cut for white\n",
    "}\n",
    "\n",
    "// Called continuesly\n",
    "// until the program\n",
    "// is quit\n",
    "void draw()\n",
    "{\n",
    "    /* These commands would\n",
    "    overwrite the color we set in\n",
    "    the keyPressed() method\n",
    "        fill(0,0,255);\n",
    "        stroke(255, 0 , 0);\n",
    "        strokeWeight(10);\n",
    "    */\n",
    "    noStroke();\n",
    "    ellipse(125, 125, 100, 100);\n",
    "}\n",
    "\n",
    "// Called if a key was \n",
    "// pressed\n",
    "void keyPressed()\n",
    "{\n",
    "  // Set the fill color to a \n",
    "  // randomly chosen one\n",
    "  fill(random(255),random(255),random(255));\n",
    "}"
   ]
  },
  {
   "cell_type": "markdown",
   "metadata": {},
   "source": [
    "---\n",
    "<a id='ex05'></a>"
   ]
  },
  {
   "cell_type": "markdown",
   "metadata": {},
   "source": [
    "## Example 05 - Mouse Interaction"
   ]
  },
  {
   "cell_type": "code",
   "execution_count": null,
   "metadata": {},
   "outputs": [],
   "source": [
    "// Called once when\n",
    "// the program is started\n",
    "void setup()\n",
    "{\n",
    "    size(250, 250); \n",
    "    background(255); //short-cut for white\n",
    "    fill(255, 0, 0);\n",
    "}\n",
    "\n",
    "// Called continuesly\n",
    "// until the program\n",
    "// is quit\n",
    "void draw()\n",
    "{\n",
    "    noStroke();\n",
    "    ellipse(mouseX, mouseY, 10, 10);\n",
    "}\n",
    "\n",
    "// Called if a key was \n",
    "// pressed\n",
    "void keyPressed()\n",
    "{\n",
    "  // Set the fill color to a \n",
    "  // randomly chosen one\n",
    "  fill(random(255),random(255),random(255));\n",
    "}"
   ]
  },
  {
   "cell_type": "markdown",
   "metadata": {},
   "source": [
    "---\n",
    "<a id='ex06'></a>"
   ]
  },
  {
   "cell_type": "markdown",
   "metadata": {},
   "source": [
    "## Example 06 - Input from a Specific Key"
   ]
  },
  {
   "cell_type": "code",
   "execution_count": null,
   "metadata": {},
   "outputs": [],
   "source": [
    "// Called once when\n",
    "// the program is started\n",
    "void setup()\n",
    "{\n",
    "    size(250, 250); \n",
    "    background(255); \n",
    "    fill(255, 0, 0);\n",
    "}\n",
    "\n",
    "// Called continuesly\n",
    "// until the program\n",
    "// is quit\n",
    "void draw()\n",
    "{\n",
    "    noStroke();\n",
    "    // Setting the position\n",
    "    // of the ellipse to the\n",
    "    // current mouse position\n",
    "    ellipse(mouseX, mouseY, 10, 10);\n",
    "}\n",
    "\n",
    "// Called if a key was \n",
    "// pressed\n",
    "void keyPressed()\n",
    "{\n",
    "    // Set the fill color to a \n",
    "    // randomly chosen one\n",
    "    fill(random(255), random(255), random(255));\n",
    "\n",
    "    if(key == 'c')\n",
    "    {\n",
    "        println(\"hello hello\");\n",
    "    }\n",
    "}"
   ]
  },
  {
   "cell_type": "markdown",
   "metadata": {},
   "source": [
    "---\n",
    "<a id='ex07'></a>"
   ]
  },
  {
   "cell_type": "markdown",
   "metadata": {},
   "source": [
    "## Example 07 - Clearing the Screen"
   ]
  },
  {
   "cell_type": "code",
   "execution_count": null,
   "metadata": {},
   "outputs": [],
   "source": [
    "// Called once when\n",
    "// the program is started\n",
    "void setup()\n",
    "{\n",
    "    size(250, 250); \n",
    "    background(255); \n",
    "    fill(255, 0, 0);\n",
    "}\n",
    "\n",
    "// Called continuesly\n",
    "// until the program\n",
    "// is quit\n",
    "void draw()\n",
    "{\n",
    "    noStroke();\n",
    "    // Setting the position\n",
    "    // of the ellipse to the\n",
    "    // current mouse position\n",
    "    ellipse(mouseX, mouseY, 10, 10);\n",
    "}\n",
    "\n",
    "// Called if a key was \n",
    "// pressed\n",
    "void keyPressed()\n",
    "{\n",
    "    // Set the fill color to a \n",
    "    // randomly chosen one\n",
    "    fill(random(255), random(255), random(255));\n",
    "\n",
    "    if(key == 'c')\n",
    "    {\n",
    "        background(255);\n",
    "    }\n",
    "}"
   ]
  }
 ],
 "metadata": {
  "kernelspec": {
   "display_name": "Calysto Processing",
   "language": "java",
   "name": "calysto_processing"
  },
  "language_info": {
   "codemirror_mode": {
    "name": "text/x-java",
    "version": 2
   },
   "file_extension": ".java",
   "mimetype": "text/x-java",
   "name": "java"
  }
 },
 "nbformat": 4,
 "nbformat_minor": 2
}
